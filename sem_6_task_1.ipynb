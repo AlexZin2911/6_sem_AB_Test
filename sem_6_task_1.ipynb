{
 "cells": [
  {
   "attachments": {},
   "cell_type": "markdown",
   "metadata": {},
   "source": [
    "Продакт на главной mail.ru решил протестировать в рекомендательной ленте контента вместо карточек со статьями видеоплеер с короткими видео. Нынешний таймспент на юзера в день в среднем равен 25 минут, а стандартная ошибка (SD) равна 156. Мы предполагаем, что в новой версии таймспент на юзера в день изменится на 10%. Средний трафик 20000 человек в день. Посчитайте сколько дней необходимо держать эксперимент при alpha = 5% и beta = 20%."
   ]
  },
  {
   "cell_type": "code",
   "execution_count": 3,
   "metadata": {},
   "outputs": [
    {
     "name": "stdout",
     "output_type": "stream",
     "text": [
      "Ответ: Нужно собрать данные в течении 1 дня (дней)\n"
     ]
    }
   ],
   "source": [
    "import numpy as np\n",
    "from scipy.stats import norm, t\n",
    "\n",
    "n = 20000  # среднее количество юзеров в день\n",
    "sd = 156  # стандартная ошибка\n",
    "alpha = 0.05  # уровень значимости\n",
    "beta = 0.2  # вероятность ошибки второго рода\n",
    "prop_diff = 0.1  # относительное изменение таймспента\n",
    "\n",
    "se = sd / np.sqrt(n)  # стандартная ошибка среднего\n",
    "m = se * norm.ppf(1 - alpha/2)  # граница для доверительного интервала\n",
    "delta = prop_diff * n  # абсолютное изменение таймспента\n",
    "\n",
    "z_alpha = norm.ppf(1 - alpha)  \n",
    "z_beta = norm.ppf(1 - beta) \n",
    "\n",
    "n_1 = (z_alpha*m + z_beta*sd/delta)**2\n",
    "n_2 = (z_alpha*m - z_beta*sd/delta)**2\n",
    "n_round = np.ceil(max(n_1, n_2))\n",
    "days = np.ceil(n_round/n)  # количество дней\n",
    "\n",
    "print(f\"Ответ: Нужно собрать данные в течении {int(days)} дня (дней)\")"
   ]
  }
 ],
 "metadata": {
  "kernelspec": {
   "display_name": "Python 3",
   "language": "python",
   "name": "python3"
  },
  "language_info": {
   "codemirror_mode": {
    "name": "ipython",
    "version": 3
   },
   "file_extension": ".py",
   "mimetype": "text/x-python",
   "name": "python",
   "nbconvert_exporter": "python",
   "pygments_lexer": "ipython3",
   "version": "3.10.11"
  },
  "orig_nbformat": 4
 },
 "nbformat": 4,
 "nbformat_minor": 2
}
